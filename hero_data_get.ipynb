{
 "cells": [
  {
   "cell_type": "code",
   "execution_count": 1,
   "metadata": {},
   "outputs": [],
   "source": [
    "import numpy as np\n",
    "import pandas as pd\n",
    "import json\n",
    "import requests"
   ]
  },
  {
   "cell_type": "code",
   "execution_count": 12,
   "metadata": {},
   "outputs": [
    {
     "name": "stdout",
     "output_type": "stream",
     "text": [
      "  attack_type  id  legs  localized_name                          name  \\\n",
      "0       Melee   1     2       Anti-Mage        npc_dota_hero_antimage   \n",
      "1       Melee   2     2             Axe             npc_dota_hero_axe   \n",
      "2      Ranged   3     4            Bane            npc_dota_hero_bane   \n",
      "3       Melee   4     2     Bloodseeker     npc_dota_hero_bloodseeker   \n",
      "4      Ranged   5     2  Crystal Maiden  npc_dota_hero_crystal_maiden   \n",
      "5      Ranged   6     2     Drow Ranger     npc_dota_hero_drow_ranger   \n",
      "6       Melee   7     2     Earthshaker     npc_dota_hero_earthshaker   \n",
      "7       Melee   8     2      Juggernaut      npc_dota_hero_juggernaut   \n",
      "8      Ranged   9     2          Mirana          npc_dota_hero_mirana   \n",
      "9      Ranged  10     0       Morphling       npc_dota_hero_morphling   \n",
      "\n",
      "  primary_attr                                         roles  \n",
      "0          agi                        [Carry, Escape, Nuker]  \n",
      "1          str       [Initiator, Durable, Disabler, Jungler]  \n",
      "2          int           [Support, Disabler, Nuker, Durable]  \n",
      "3          agi  [Carry, Disabler, Jungler, Nuker, Initiator]  \n",
      "4          int           [Support, Disabler, Nuker, Jungler]  \n",
      "5          agi                     [Carry, Disabler, Pusher]  \n",
      "6          str         [Support, Initiator, Disabler, Nuker]  \n",
      "7          agi                       [Carry, Pusher, Escape]  \n",
      "8          agi     [Carry, Support, Escape, Nuker, Disabler]  \n",
      "9          agi     [Carry, Escape, Durable, Nuker, Disabler]  \n"
     ]
    }
   ],
   "source": [
    "all_heroes_json = requests.get('https://api.opendota.com/api/heroes').json()\n",
    "all_heroes_df = pd.DataFrame(all_heroes_json)\n",
    "print(all_heroes_df.head(10))"
   ]
  },
  {
   "cell_type": "code",
   "execution_count": 13,
   "metadata": {},
   "outputs": [
    {
     "name": "stdout",
     "output_type": "stream",
     "text": [
      "['Pusher', 'Jungler', 'Support', 'Carry', 'Initiator', 'Escape', 'Durable', 'Nuker', 'Disabler']\n",
      "  attack_type  id  legs  localized_name                          name  \\\n",
      "0       Melee   1     2       Anti-Mage        npc_dota_hero_antimage   \n",
      "1       Melee   2     2             Axe             npc_dota_hero_axe   \n",
      "2      Ranged   3     4            Bane            npc_dota_hero_bane   \n",
      "3       Melee   4     2     Bloodseeker     npc_dota_hero_bloodseeker   \n",
      "4      Ranged   5     2  Crystal Maiden  npc_dota_hero_crystal_maiden   \n",
      "\n",
      "  primary_attr                                         roles  Pusher  Jungler  \\\n",
      "0          agi                        [Carry, Escape, Nuker]   False    False   \n",
      "1          str       [Initiator, Durable, Disabler, Jungler]   False     True   \n",
      "2          int           [Support, Disabler, Nuker, Durable]   False    False   \n",
      "3          agi  [Carry, Disabler, Jungler, Nuker, Initiator]   False     True   \n",
      "4          int           [Support, Disabler, Nuker, Jungler]   False     True   \n",
      "\n",
      "   Support  Carry  Initiator  Escape  Durable  Nuker  Disabler  \n",
      "0    False   True      False    True    False   True     False  \n",
      "1    False  False       True   False     True  False      True  \n",
      "2     True  False      False   False     True   True      True  \n",
      "3    False   True       True   False    False   True      True  \n",
      "4     True  False      False   False    False   True      True  \n"
     ]
    }
   ],
   "source": [
    "roles = []\n",
    "for role in all_heroes_df['roles']:\n",
    "    roles = roles + role\n",
    "    \n",
    "roles = list(set(roles))\n",
    "print(roles)\n",
    "for role in roles:\n",
    "    all_heroes_df[role] = all_heroes_df['roles'].apply(lambda x: role in x)\n",
    "\n",
    "print(all_heroes_df.head())"
   ]
  },
  {
   "cell_type": "code",
   "execution_count": 14,
   "metadata": {},
   "outputs": [],
   "source": [
    "all_heroes_df = all_heroes_df.drop(\"roles\",axis=1)\n",
    "all_heroes_df.to_csv(\"heroes.csv\",index=False)"
   ]
  },
  {
   "cell_type": "code",
   "execution_count": null,
   "metadata": {},
   "outputs": [],
   "source": []
  }
 ],
 "metadata": {
  "kernelspec": {
   "display_name": "Python 3",
   "language": "python",
   "name": "python3"
  },
  "language_info": {
   "codemirror_mode": {
    "name": "ipython",
    "version": 3
   },
   "file_extension": ".py",
   "mimetype": "text/x-python",
   "name": "python",
   "nbconvert_exporter": "python",
   "pygments_lexer": "ipython3",
   "version": "3.7.1"
  }
 },
 "nbformat": 4,
 "nbformat_minor": 2
}
